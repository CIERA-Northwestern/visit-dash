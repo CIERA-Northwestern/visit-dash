{
 "cells": [
  {
   "cell_type": "markdown",
   "id": "ff538404-b421-40aa-9b5f-e41edb95913c",
   "metadata": {},
   "source": [
    "# Setup"
  ]
  },
  {
   "cell_type": "code",
   "execution_count": 1,
   "id": "4d435dd3-4106-42c3-a445-72802ca318e0",
   "metadata": {},
   "outputs": [],
   "source": [
    "import numpy as np\n",
    "import os\n",
    "import glob\n",
    "import pandas as pd\n",
    "import sys\n",
    "import yaml"
  ]
  },
  {
   "cell_type": "markdown",
   "id": "bcbea391-a730-4ad2-ad8b-859eb59ce5b2",
   "metadata": {},
   "source": [
    "## Process Config"
  ]
  },
  {
   "cell_type": "code",
   "execution_count": 2,
   "id": "4cb5a32f",
   "metadata": {},
   "outputs": [
    {
     "name": "stdout",
     "output_type": "stream",
     "text": [
      "Starting transformation. Working directory: /Users/zhafen/repos/root-dash/src\n"
    ]
    }
  ],
   "source": [
    "print('Starting transformation. Working directory: {}'.format(os.getcwd()))"
  ]
  },
  {
   "cell_type": "code",
   "execution_count": 3,
   "id": "5137a668-a624-4dd2-96ca-6f9ee5f1c153",
   "metadata": {
    "tags": []
   },
   "outputs": [],
   "source": [
    "with open('./config.yml', \"r\") as f:\n",
    "    config = yaml.load(f, Loader=yaml.FullLoader)"
  ]
  },
  {
   "cell_type": "code",
   "execution_count": 4,
   "id": "c8b3189a-b86f-4353-897c-b1325696bed0",
   "metadata": {
    "tags": []
   },
   "outputs": [],
   "source": [
    "input_dir = os.path.join(config['data_dir'], config['input_dirname'])"
  ]
  },
  {
   "cell_type": "code",
   "execution_count": 5,
   "id": "459db3e7",
   "metadata": {},
   "outputs": [],
   "source": [
    "def get_fp_of_most_recent_file(pattern):\n",
    "    fps = glob.glob(pattern)\n",
    "    ind_selected = np.argmax([os.path.getctime(_) for _ in fps])\n",
    "    return fps[ind_selected]"
  ]
  },
  {
   "cell_type": "code",
   "execution_count": 6,
   "id": "142cee90-de7b-45db-b275-7af5dc20a3a7",
   "metadata": {
    "tags": []
   },
   "outputs": [],
   "source": [
    "data_fp = os.path.join(input_dir, config['website_data_file_pattern'])\n",
    "data_fp = get_fp_of_most_recent_file(data_fp)"
  ]
  },
  {
   "cell_type": "code",
   "execution_count": 7,
   "id": "6e1b5c24-5e1a-4417-a621-c1817d767f5c",
   "metadata": {
    "tags": []
   },
   "outputs": [],
   "source": [
    "press_office_data_fp = os.path.join(input_dir, config['press_office_data_file_pattern'])\n",
    "press_office_data_fp = get_fp_of_most_recent_file(press_office_data_fp)"
  ]
  },
  {
   "cell_type": "code",
   "execution_count": 8,
   "id": "2cd49f1d-54b8-4f7e-b7bb-f43f4f6ab888",
   "metadata": {
    "tags": []
   },
   "outputs": [],
   "source": [
    "output_dir = os.path.join(config['data_dir'], config['output_dirname'])"
  ]
  },
  {
   "cell_type": "code",
   "execution_count": 9,
   "id": "c2f538b6-c4bc-4a88-b7de-c0129b7e9ace",
   "metadata": {
    "tags": []
   },
   "outputs": [],
   "source": [
    "grouping_labels = [group_by_i.lower().replace(' ', '_') for group_by_i in config['groupings']]"
  ]
  },
  {
   "cell_type": "markdown",
   "id": "4be9cf09-9684-430c-9bf5-464ba793624b",
   "metadata": {},
   "source": [
    "# Transform Website Data"
  ]
  },
  {
   "cell_type": "markdown",
   "id": "8ea3da43-7a62-4d0d-ab04-eee9ad78ac8d",
   "metadata": {},
   "source": [
    "## Preprocessing"
  ]
  },
  {
   "cell_type": "code",
   "execution_count": 10,
   "id": "587a9b88-28a4-4d6d-833a-90bdaae2df28",
   "metadata": {},
   "outputs": [],
   "source": [
    "# Load data\n",
    "df = pd.read_csv(data_fp, parse_dates=['Date',])"
  ]
  },
  {
   "cell_type": "code",
   "execution_count": 11,
   "id": "ccc050f5-70f0-4012-9959-8622ec67a6f5",
   "metadata": {},
   "outputs": [],
   "source": [
    "# Drop drafts\n",
    "df.drop(df.index[df['Date'].dt.year == 1970], axis='rows', inplace=True)"
  ]
  },
  {
   "cell_type": "code",
   "execution_count": 12,
   "id": "51580882-d883-4dd3-930b-38b749278f91",
   "metadata": {},
   "outputs": [],
   "source": [
    "# Drop weird articles---ancient ones w/o a title or press type\n",
    "df.dropna(axis='rows', how='any', subset=['Title', 'Press Types',], inplace=True)"
  ]
  },
  {
   "cell_type": "code",
   "execution_count": 13,
   "id": "3a1b57ea-e832-4e06-8ba0-a78988abdd12",
   "metadata": {},
   "outputs": [],
   "source": [
    "# Get rid of HTML ampersands\n",
    "for str_column in ['Title', 'Research Topics', 'Categories']:\n",
    "    df[str_column] = df[str_column].str.replace('&amp;', '&')"
  ]
  },
  {
   "cell_type": "code",
   "execution_count": 15,
   "id": "147a4759-7c0d-4245-ba4d-9ea617b6f034",
   "metadata": {},
   "outputs": [],
   "source": [
    "# Get date bins\n",
    "start_year = df['Date'].min().year - 1\n",
    "end_year = df['Date'].max().year + 1\n",
    "date_bins = pd.date_range(\n",
    "    '{} {}'.format(config['start_of_year'], start_year),\n",
    "    pd.Timestamp.now() + pd.offsets.DateOffset(years=1),\n",
    "    freq = pd.offsets.DateOffset(years=1),\n",
    ")\n",
    "date_bin_labels = date_bins.year[:-1]"
  ]
  },
  {
   "cell_type": "code",
   "execution_count": 16,
   "id": "c9cb87f2-e45d-45a3-a212-e34a5c3eb2d3",
   "metadata": {},
   "outputs": [],
   "source": [
    "# Add the year published (using the above start date)\n",
    "df['Year'] = pd.cut(df['Date'], date_bins, labels=date_bin_labels) "
  ]
  },
  {
   "cell_type": "markdown",
   "id": "548121b5-bdc8-4ad8-af5c-20667af1cc2b",
   "metadata": {},
   "source": [
    "## Grouped Counts"
  ]
  },
  {
   "cell_type": "code",
   "execution_count": 17,
   "id": "c347b980-88c3-4642-a9d1-04f428f94f30",
   "metadata": {
    "tags": []
   },
   "outputs": [
    {
     "name": "stdout",
     "output_type": "stream",
     "text": [
      "Saved counts grouped by Research Topics at: ../data/processed_data/counts/counts.research_topics.csv\n",
      "Saved counts grouped by Press Types at: ../data/processed_data/counts/counts.press_types.csv\n",
      "Saved counts grouped by Categories at: ../data/processed_data/counts/counts.categories.csv\n"
    ]
    }
  ],
   "source": [
    "for i, group_by_i in enumerate(config['groupings']):\n",
    "    df_i = df.copy()\n",
    "\n",
    "    # Explode and group\n",
    "    df_i[group_by_i] = df_i[group_by_i].str.split('|')\n",
    "    df_i = df_i.explode(group_by_i)\n",
    "\n",
    "    # Get counts\n",
    "    counts = df_i.pivot_table(index='Year', columns=group_by_i, values='id', aggfunc='count')\n",
    "    \n",
    "    # Save\n",
    "    output_fn = 'counts.{}.csv'.format(grouping_labels[i])\n",
    "    counts_output_dir = os.path.join(output_dir, 'counts')\n",
    "    os.makedirs(counts_output_dir, exist_ok=True)\n",
    "    output_fp = os.path.join(counts_output_dir, output_fn)\n",
    "    counts.to_csv(output_fp,)\n",
    "    print('Saved counts grouped by {} at: {}'.format(group_by_i, output_fp))"
  ]
  },
  {
   "cell_type": "markdown",
   "id": "2beddf9a-4567-4036-aa3d-6dbdc6b80d03",
   "metadata": {},
   "source": [
    "# Coordinate Manual Data"
  ]
  },
  {
   "cell_type": "markdown",
   "id": "5f0b3b62-e0ff-4d3d-bd03-39faf92929d2",
   "metadata": {},
   "source": [
    "## Original Format"
  ]
  },
  {
   "cell_type": "code",
   "execution_count": 18,
   "id": "5d1c5970-6ef7-437d-afdc-5e298bd93131",
   "metadata": {},
   "outputs": [],
   "source": [
    "# Load press data\n",
    "press_df = pd.read_excel(press_office_data_fp)\n",
    "press_df.set_index('id', inplace=True)\n",
    "if 'Title (optional)' in press_df.columns:\n",
    "    press_df.drop('Title (optional)', axis='columns', inplace=True)\n",
    "for column in ['Press Mentions', 'People Reached']:\n",
    "    press_df[column] = press_df[column].astype('Int64')"
  ]
  },
  {
   "cell_type": "code",
   "execution_count": 19,
   "id": "abb70427-a7e0-4b6e-992f-3bb92b1c2d3f",
   "metadata": {
    "tags": []
   },
   "outputs": [],
   "source": [
    "# Combine with website data\n",
    "combined_df = df.set_index('id').join(press_df)"
  ]
  },
  {
   "cell_type": "code",
   "execution_count": 20,
   "id": "816c00d0-4964-489d-8b3b-c920e6515c6e",
   "metadata": {
    "tags": []
   },
   "outputs": [
    {
     "name": "stdout",
     "output_type": "stream",
     "text": [
      "Saved full press data at: ../data/processed_data/press.csv\n"
    ]
    }
  ],
   "source": [
    "# Save combined data\n",
    "output_fp = os.path.join(output_dir, config['combined_filename'])\n",
    "combined_df.to_csv(output_fp)\n",
    "print('Saved full press data at: {}'.format(output_fp))"
  ]
  },
  {
   "cell_type": "markdown",
   "id": "f0e41519-60c9-4477-9db0-12ff89700c95",
   "metadata": {},
   "source": [
    "## Exploded Format\n",
    "(Alternative that parses the categories.)"
  ]
  },
  {
   "cell_type": "code",
   "execution_count": 21,
   "id": "0de2be4d-8d61-4f41-bfba-ec91afe946e1",
   "metadata": {
    "tags": []
   },
   "outputs": [],
   "source": [
    "# Explode and group\n",
    "exploded_df = combined_df.copy()\n",
    "for group_by_i in config['groupings']:\n",
    "    exploded_df[group_by_i] = exploded_df[group_by_i].str.split('|')\n",
    "    exploded_df = exploded_df.explode(group_by_i)"
  ]
  },
  {
   "cell_type": "code",
   "execution_count": 22,
   "id": "cf464cfd-55a7-4d89-856a-bab00347afe0",
   "metadata": {
    "tags": []
   },
   "outputs": [
    {
     "name": "stdout",
     "output_type": "stream",
     "text": [
      "Saved expanded press data at: ../data/processed_data/press.exploded.csv\n"
    ]
    }
  ],
   "source": [
    "# Save\n",
    "base, ext = os.path.splitext(config['combined_filename'])\n",
    "exploded_filename = '{}.exploded{}'.format(base, ext)\n",
    "output_fp = os.path.join(output_dir, exploded_filename)\n",
    "exploded_df.to_csv(output_fp)\n",
    "print('Saved expanded press data at: {}'.format(output_fp))"
  ]
  }
],
 "metadata": {
  "kernelspec": {
   "display_name": "Python 3 (ipykernel)",
   "language": "python",
   "name": "python3"
  },
  "language_info": {
   "codemirror_mode": {
    "name": "ipython",
    "version": 3
   },
   "file_extension": ".py",
   "mimetype": "text/x-python",
   "name": "python",
   "nbconvert_exporter": "python",
   "pygments_lexer": "ipython3",
   "version": "3.11.4"
  }
 },
 "nbformat": 4,
 "nbformat_minor": 5
}
